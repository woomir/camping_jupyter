{
 "cells": [
  {
   "cell_type": "code",
   "execution_count": 12,
   "id": "independent-compromise",
   "metadata": {},
   "outputs": [],
   "source": [
    "import requests\n",
    "from bs4 import BeautifulSoup\n",
    "from selenium import webdriver\n",
    "import time\n",
    "import telegram\n",
    "import random"
   ]
  },
  {
   "cell_type": "code",
   "execution_count": 13,
   "id": "selected-soundtrack",
   "metadata": {},
   "outputs": [],
   "source": [
    "# # 텔레그램 메시지 전송 함수\n",
    "# def telegramSendMessage(month: str, day: str, siteNumber: int, camping: str, areaName: str):\n",
    "#     chat_token = \"1752254532:AAHM8-RftUAr3V5KRJ2SzaBp41G8JTTeHIE\"\n",
    "#     bot = telegram.Bot(token=chat_token)\n",
    "#     telegramMessageText = camping + ': ' + month + '월 ' + day + \\\n",
    "#         '일 ' + areaName + '에 ' + str(siteNumber) + '개의 사이트가 있습니다.'\n",
    "#     bot.sendMessage(chat_id=\"-564369831\", text=telegramMessageText)\n",
    "\n",
    "# # 사이트 찾기 및 메시지 전송 함수\n",
    "# def searchAreaSite(selectDay, thisMonth, areaName):\n",
    "#     siteFind = soup.select('a.num')\n",
    "#     activeSiteCount = 0\n",
    "#     for selectSatDay in selectDay:\n",
    "#         if len(selectSatDay) < 2:\n",
    "#             selectSatDay = '0'+selectSatDay\n",
    "#         searchDay = '2021-'+thisMonth+'-'+selectSatDay\n",
    "#         for active in siteFind:\n",
    "#             if searchDay in active['data-val']:\n",
    "#                 if '예약가능' in active.select_one('img')['alt']:\n",
    "#                     activeSiteCount += 1\n",
    "#         if activeSiteCount > 0:\n",
    "#             telegramSendMessage('이번달', selectSatDay,\n",
    "#                                 activeSiteCount, '진하캠핑장', areaName)\n",
    "#             print('진하캠핑장: ' + thisMonth + '월 ' + selectSatDay +\n",
    "#                   '일 ' + areaName + '에 ' + str(siteNumber) + '개 예약 가능')\n",
    "#             sendMessageCount += 1\n",
    "#         else:\n",
    "#             print('진하캠핑장: ' + thisMonth + '월 ' + selectSatDay + '일 자리 없음.')"
   ]
  },
  {
   "cell_type": "code",
   "execution_count": 2,
   "id": "unavailable-consistency",
   "metadata": {},
   "outputs": [
    {
     "ename": "NameError",
     "evalue": "name 'datetime' is not defined",
     "output_type": "error",
     "traceback": [
      "\u001b[0;31m---------------------------------------------------------------------------\u001b[0m",
      "\u001b[0;31mNameError\u001b[0m                                 Traceback (most recent call last)",
      "\u001b[0;32m<ipython-input-2-be09986aeb54>\u001b[0m in \u001b[0;36m<module>\u001b[0;34m\u001b[0m\n\u001b[1;32m      1\u001b[0m \u001b[0;31m# 오늘 날짜 확인\u001b[0m\u001b[0;34m\u001b[0m\u001b[0;34m\u001b[0m\u001b[0;34m\u001b[0m\u001b[0m\n\u001b[0;32m----> 2\u001b[0;31m \u001b[0mtodayDay\u001b[0m \u001b[0;34m=\u001b[0m \u001b[0mdatetime\u001b[0m\u001b[0;34m.\u001b[0m\u001b[0mdatetime\u001b[0m\u001b[0;34m.\u001b[0m\u001b[0mnow\u001b[0m\u001b[0;34m(\u001b[0m\u001b[0;34m)\u001b[0m\u001b[0;34m.\u001b[0m\u001b[0mday\u001b[0m\u001b[0;34m\u001b[0m\u001b[0;34m\u001b[0m\u001b[0m\n\u001b[0m",
      "\u001b[0;31mNameError\u001b[0m: name 'datetime' is not defined"
     ]
    }
   ],
   "source": [
    "# 오늘 날짜 확인\n",
    "todayDay = datetime.datetime.now().day"
   ]
  },
  {
   "cell_type": "code",
   "execution_count": 14,
   "id": "serial-sleep",
   "metadata": {},
   "outputs": [],
   "source": [
    "driver = webdriver.Chrome(\n",
    "    # '/home/ubuntu/chromedriver', options=webdriver_options) ## ubuntu\n",
    "    '/Users/WMHY/Downloads/chromedriver')  # masOs"
   ]
  },
  {
   "cell_type": "code",
   "execution_count": 15,
   "id": "minimal-database",
   "metadata": {},
   "outputs": [],
   "source": [
    "url = 'https://xn--om2bi2o9qdy7a48exzk3vf68fzzd.kr/'\n",
    "driver.get(url)\n",
    "time.sleep(0.5)"
   ]
  },
  {
   "cell_type": "code",
   "execution_count": 16,
   "id": "binary-summit",
   "metadata": {},
   "outputs": [],
   "source": [
    "# 로그인 화면으로 이동\n",
    "html = driver.page_source\n",
    "if '/login?backURL=%2F' in html:\n",
    "    xpath = \"//a[@href='/login?backURL=%2F']\"\n",
    "    driver.find_element_by_xpath(xpath).click()\n",
    "    time.sleep(0.1)\n",
    "    # 아이디 입력\n",
    "    xpath = \"//input[@id='m_id']\"\n",
    "    driver.find_element_by_xpath(xpath).send_keys('woomir@gmail.com')\n",
    "    time.sleep(0.1)\n",
    "    # 비번 입력\n",
    "    xpath = \"//input[@id='password']\"\n",
    "    driver.find_element_by_xpath(xpath).send_keys('$52Telecast')\n",
    "    time.sleep(0.1)\n",
    "    # 로그인 버튼 클릭\n",
    "    xpath = \"//button[@id='login_submit']\"\n",
    "    driver.find_element_by_xpath(xpath).click()\n",
    "    time.sleep(0.1)"
   ]
  },
  {
   "cell_type": "code",
   "execution_count": 11,
   "id": "ceramic-loading",
   "metadata": {},
   "outputs": [
    {
     "ename": "KeyboardInterrupt",
     "evalue": "",
     "output_type": "error",
     "traceback": [
      "\u001b[0;31m--------------------------------------\u001b[0m",
      "\u001b[0;31mKeyboardInterrupt\u001b[0mTraceback (most recent call last)",
      "\u001b[0;32m<ipython-input-11-543cab9b749b>\u001b[0m in \u001b[0;36m<module>\u001b[0;34m\u001b[0m\n\u001b[1;32m      7\u001b[0m     \u001b[0mxpath\u001b[0m \u001b[0;34m=\u001b[0m \u001b[0;34m\"//*[@id='container']/div[2]/table/tbody/tr[5]/td[7]/div/li[3]/a/img\"\u001b[0m\u001b[0;34m\u001b[0m\u001b[0;34m\u001b[0m\u001b[0m\n\u001b[1;32m      8\u001b[0m     \u001b[0malt\u001b[0m \u001b[0;34m=\u001b[0m \u001b[0mdriver\u001b[0m\u001b[0;34m.\u001b[0m\u001b[0mfind_element_by_xpath\u001b[0m\u001b[0;34m(\u001b[0m\u001b[0mxpath\u001b[0m\u001b[0;34m)\u001b[0m\u001b[0;34m.\u001b[0m\u001b[0mget_attribute\u001b[0m\u001b[0;34m(\u001b[0m\u001b[0;34m'alt'\u001b[0m\u001b[0;34m)\u001b[0m\u001b[0;34m\u001b[0m\u001b[0;34m\u001b[0m\u001b[0m\n\u001b[0;32m----> 9\u001b[0;31m     \u001b[0mtime\u001b[0m\u001b[0;34m.\u001b[0m\u001b[0msleep\u001b[0m\u001b[0;34m(\u001b[0m\u001b[0;36m0.2\u001b[0m\u001b[0;34m)\u001b[0m\u001b[0;34m\u001b[0m\u001b[0;34m\u001b[0m\u001b[0m\n\u001b[0m",
      "\u001b[0;31mKeyboardInterrupt\u001b[0m: "
     ]
    }
   ],
   "source": [
    "# 5월 예약 사이트 접속\n",
    "alt ='추첨마감'\n",
    "while alt == '추첨마감':\n",
    "    url = 'https://xn--om2bi2o9qdy7a48exzk3vf68fzzd.kr/reserve/month?cate_no=d&day=2021-05-01'\n",
    "    driver.get(url)\n",
    "    time.sleep(0.1)\n",
    "    xpath = \"//*[@id='container']/div[2]/table/tbody/tr[5]/td[7]/div/li[3]/a/img\"\n",
    "    alt = driver.find_element_by_xpath(xpath).get_attribute('alt')\n",
    "    time.sleep(0.1)\n",
    "\n",
    "xpath = \"//*[@id='container']/div[2]/table/tbody/tr[5]/td[7]/div/li[3]/a\"\n",
    "driver.find_element_by_xpath(xpath).click()\n"
   ]
  },
  {
   "cell_type": "code",
   "execution_count": 9,
   "id": "loving-toolbox",
   "metadata": {},
   "outputs": [
    {
     "name": "stdout",
     "output_type": "stream",
     "text": [
      "추첨마감\n"
     ]
    }
   ],
   "source": []
  },
  {
   "cell_type": "code",
   "execution_count": 6,
   "id": "increased-outline",
   "metadata": {},
   "outputs": [],
   "source": [
    "# 예약사이트 접속\n",
    "xpath = \"//a[@href='/room/camping.php']\"\n",
    "driver.find_element_by_xpath(xpath).click()\n",
    "time.sleep(0.2)\n",
    "xpath = \"//*[@id='wrap']/div[3]/div/ul/li[4]/a\"\n",
    "driver.find_element_by_xpath(xpath).click()\n",
    "time.sleep(0.1)"
   ]
  },
  {
   "cell_type": "code",
   "execution_count": 8,
   "id": "wrapped-unemployment",
   "metadata": {},
   "outputs": [],
   "source": [
    "# 몇월인지 확인\n",
    "month = soup.find('div', {'class':'month'})\n",
    "monthNumber = month.find('em').get_text()\n",
    "thisMonth = monthNumber[5:7]"
   ]
  },
  {
   "cell_type": "code",
   "execution_count": 7,
   "id": "embedded-classification",
   "metadata": {},
   "outputs": [
    {
     "name": "stdout",
     "output_type": "stream",
     "text": [
      "['3', '10', '17', '24']\n"
     ]
    }
   ],
   "source": [
    "# 토요일 날짜 추출\n",
    "html = driver.page_source\n",
    "soup = BeautifulSoup(html,'html.parser')\n",
    "satDay = soup.find_all('span',{'class':'sat'} )\n",
    "satDayNumber = []\n",
    "for text in satDay:\n",
    "    if text.get_text() != '':\n",
    "        satDayNumber.append(text.get_text())  "
   ]
  },
  {
   "cell_type": "code",
   "execution_count": 10,
   "id": "handy-stretch",
   "metadata": {},
   "outputs": [
    {
     "name": "stdout",
     "output_type": "stream",
     "text": [
      "검색할 날짜를 선택하세요.(y로 대답하세요)\n",
      "04월 3일을 검색할까요?n\n",
      "04월 10일을 검색할까요?n\n",
      "04월 17일을 검색할까요?y\n",
      "04월 24일을 검색할까요?y\n"
     ]
    }
   ],
   "source": [
    "# 반복 검색할 날짜 선택\n",
    "selectDay = []\n",
    "print('검색할 날짜를 선택하세요.(y로 대답하세요)')\n",
    "for i in satDayNumber:\n",
    "    answer = input(thisMonth+'월 '+ i + '일을 검색할까요?')\n",
    "    if 'y' in answer:\n",
    "        selectDay.append(i)"
   ]
  },
  {
   "cell_type": "code",
   "execution_count": 22,
   "id": "trained-dublin",
   "metadata": {},
   "outputs": [
    {
     "name": "stdout",
     "output_type": "stream",
     "text": [
      "['17', '24']\n"
     ]
    }
   ],
   "source": [
    "print(selectDay)"
   ]
  },
  {
   "cell_type": "code",
   "execution_count": 22,
   "id": "another-operations",
   "metadata": {},
   "outputs": [],
   "source": [
    "xpath = \"//button[@data-val='a']\"\n",
    "driver.find_element_by_xpath(xpath).click()\n",
    "time.sleep(0.1)"
   ]
  },
  {
   "cell_type": "code",
   "execution_count": 42,
   "id": "former-villa",
   "metadata": {},
   "outputs": [
    {
     "name": "stdout",
     "output_type": "stream",
     "text": [
      "진하캠핑장: 04월 17일 자리 없음.\n",
      "진하캠핑장: 04월 24일 자리 없음.\n",
      "A구역\n",
      "진하캠핑장: 04월 17일 자리 없음.\n",
      "진하캠핑장: 04월 24일 자리 없음.\n",
      "B구역\n",
      "진하캠핑장: 04월 17일 자리 없음.\n",
      "진하캠핑장: 04월 24일 자리 없음.\n",
      "C구역\n",
      "진하캠핑장: 04월 17일 자리 없음.\n",
      "진하캠핑장: 04월 24일 자리 없음.\n",
      "D구역\n",
      "진하캠핑장: 04월 17일 자리 없음.\n",
      "진하캠핑장: 04월 24일 자리 없음.\n",
      "E구역\n",
      "진하캠핑장: 04월 17일 자리 없음.\n",
      "진하캠핑장: 04월 24일 자리 없음.\n",
      "F구역\n"
     ]
    }
   ],
   "source": [
    "dataValList = ['a', 'b', 'c', 'd', 'e', 'f']\n",
    "for area in dataValList:\n",
    "    xpath = \"//button[@data-val='\" + area + \"']\"\n",
    "    driver.find_element_by_xpath(xpath).click()\n",
    "    time.sleep(0.1)\n",
    "    html = driver.page_source\n",
    "    soup = BeautifulSoup(html,'html.parser')\n",
    "    areaName = soup.select_one(\"button.btn_active\").get_text()\n",
    "    searchAreaSite(selectDay, thisMonth, areaName)\n",
    "    print(areaName)"
   ]
  },
  {
   "cell_type": "code",
   "execution_count": null,
   "id": "final-triumph",
   "metadata": {},
   "outputs": [],
   "source": []
  }
 ],
 "metadata": {
  "kernelspec": {
   "display_name": "Python 3",
   "language": "python",
   "name": "python3"
  },
  "language_info": {
   "codemirror_mode": {
    "name": "ipython",
    "version": 3
   },
   "file_extension": ".py",
   "mimetype": "text/x-python",
   "name": "python",
   "nbconvert_exporter": "python",
   "pygments_lexer": "ipython3",
   "version": "3.9.1"
  }
 },
 "nbformat": 4,
 "nbformat_minor": 5
}
