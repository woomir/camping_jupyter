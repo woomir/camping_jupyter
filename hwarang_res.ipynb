{
 "cells": [
  {
   "cell_type": "code",
   "execution_count": 28,
   "id": "employed-negotiation",
   "metadata": {},
   "outputs": [],
   "source": [
    "from selenium import webdriver\n",
    "from selenium.webdriver.common.by import By\n",
    "from selenium.webdriver.support.ui import WebDriverWait\n",
    "from selenium.webdriver.support import expected_conditions as EC\n",
    "import time\n",
    "from bs4 import BeautifulSoup\n",
    "import datetime"
   ]
  },
  {
   "cell_type": "code",
   "execution_count": 32,
   "id": "natural-carnival",
   "metadata": {},
   "outputs": [],
   "source": [
    "class Driver:\n",
    "    def __init__(self):\n",
    "        options = webdriver.ChromeOptions()\n",
    "#         options.add_argument('headless')\n",
    "        options.add_argument(\n",
    "            \"user-agent=Mozilla/5.0 (Macintosh; Intel Mac OS X 10_12_6) AppleWebKit/537.36 (KHTML, like Gecko) Chrome/61.0.3163.100 Safari/537.36\")\n",
    "        self.driver = webdriver.Chrome('/Users/WMHY/Downloads/chromedriver', options=options)\n",
    "\n",
    "    def __call__(self):\n",
    "        return self.driver\n",
    "\n",
    "    def get_url(self, url): # 새 창으로 url 열기\n",
    "        self.driver.get(url)\n",
    "\n",
    "    def get_default(self):  # default 프레임 이동\n",
    "        while True:\n",
    "            try:\n",
    "                self.driver.switch_to_default_content()\n",
    "                return\n",
    "            except:\n",
    "                print('default frame 이동')\n",
    "                pass\n",
    "\n",
    "    def get_fra(self, name):  # 특정 프레임 이동\n",
    "        while True:\n",
    "            try:\n",
    "                self.driver.switch_to_frame(name)\n",
    "                break\n",
    "            except:\n",
    "                self.get_default()\n",
    "                print(name, 'frame 이동')\n",
    "                continue\n",
    "\n",
    "    def find_by_xpath(self, xpath): # Xpath로 단일 요소 찾기\n",
    "        return WebDriverWait(self.driver, 10).until(\n",
    "                        EC.presence_of_element_located(\n",
    "                            (By.XPATH, xpath)))\n",
    "\n",
    "    def find_by_class(self, class_name): # class name으로 단일 요소 찾기\n",
    "        return WebDriverWait(self.driver, 10).until(\n",
    "                        EC.presence_of_element_located(\n",
    "                            (By.CLASS_NAME, class_name)))\n",
    "\n",
    "    def find_by_tag(self, tag): # tag로 단일 요소 찾기\n",
    "        return WebDriverWait(self.driver, 10).until(\n",
    "            EC.presence_of_element_located(\n",
    "                (By.TAG_NAME, tag)))\n",
    "\n",
    "    def find_by_name(self, name): # name으로 단일 요소 찾기\n",
    "        return WebDriverWait(self.driver, 10).until(\n",
    "            EC.presence_of_element_located(\n",
    "                (By.NAME, name)))\n",
    "\n",
    "    def find_all_by_class(self, class_name): # class name으로 모든 요소 찾기\n",
    "        return WebDriverWait(self.driver, 10).until(\n",
    "            EC.presence_of_all_elements_located(\n",
    "                (By.TAG_NAME, class_name)))\n",
    "\n",
    "    def find_all_by_tag(self, tag): # tag로 모든 요소 찾기\n",
    "        return WebDriverWait(self.driver, 10).until(\n",
    "            EC.presence_of_all_elements_located(\n",
    "                (By.TAG_NAME, tag)))\n",
    "\n",
    "    def find_all_by_name(self, name): # name으로 모든 요소 찾기\n",
    "        return WebDriverWait(self.driver, 10).until(\n",
    "            EC.presence_of_all_elements_located(\n",
    "                (By.NAME, name)))\n",
    "\n",
    "    def find_all_by_tag_with_obj(self, obj, name): # tag으로 모든 요소 찾기\n",
    "        return WebDriverWait(obj, 20).until(\n",
    "            EC.presence_of_all_elements_located(\n",
    "                (By.TAG_NAME, name)))\n",
    "\n",
    "    def find_by_tag_with_obj(self, obj, name): # tag으로 요소 찾기\n",
    "        return WebDriverWait(obj, 20).until(\n",
    "            EC.presence_of_element_located(\n",
    "                (By.TAG_NAME, name)))\n",
    "\n",
    "    def find_by_link(self, text):\n",
    "        return WebDriverWait(self.driver, 10).until(\n",
    "            EC.presence_of_element_located(\n",
    "                (By.LINK_TEXT, text)))\n",
    "\n",
    "    def click(self, btn):\n",
    "        self.driver.execute_script(\"arguments[0].click();\", btn)\n",
    "\n",
    "    def close(self):\n",
    "        self.driver.close()"
   ]
  },
  {
   "cell_type": "code",
   "execution_count": 33,
   "id": "heard-poker",
   "metadata": {},
   "outputs": [],
   "source": [
    "a = Driver()"
   ]
  },
  {
   "cell_type": "code",
   "execution_count": 38,
   "id": "major-prisoner",
   "metadata": {},
   "outputs": [],
   "source": [
    "# 화랑마을 홈페이지 접속\n",
    "a.get_url('https://www.gyeongju.go.kr/hwarang/index.do')"
   ]
  },
  {
   "cell_type": "code",
   "execution_count": 39,
   "id": "imported-circus",
   "metadata": {},
   "outputs": [
    {
     "name": "stdout",
     "output_type": "stream",
     "text": [
      "경고창이 없습니다.\n"
     ]
    }
   ],
   "source": [
    "# 로그인\n",
    "a.find_by_xpath(\"/html/body/header/div/div/ul/li[2]/a\").click()\n",
    "a.find_by_xpath(\"//input[@id='loginId']\").send_keys(\"woomir\")\n",
    "a.find_by_xpath(\"//input[@id='loginPasswd']\").send_keys(\"$52Telecast\")\n",
    "a.find_by_xpath(\"//button[@class='btnLogin']\").click()\n",
    "\n",
    "try:\n",
    "    driver.switch_to.alert.accept()\n",
    "except:\n",
    "    print(\"경고창이 없습니다.\")"
   ]
  },
  {
   "cell_type": "code",
   "execution_count": 12,
   "id": "optional-afternoon",
   "metadata": {},
   "outputs": [],
   "source": [
    "# 예약 날짜에 해당하는 사이트로 이동 - 야영장\n",
    "a.get_url(\"https://www.gyeongju.go.kr/hwarang/page.do?step=list&mnu_uid=1997&tabNum=1&csi_uid=14&initYear=2021&initMonth=5&initDay=01&daynum=01\")"
   ]
  },
  {
   "cell_type": "code",
   "execution_count": 48,
   "id": "hungry-washer",
   "metadata": {},
   "outputs": [],
   "source": [
    "# 예약 날짜에 해당하는 사이트로 이동 - 육부촌\n",
    "a.get_url(\"https://www.gyeongju.go.kr/hwarang/page.do?step=list&mnu_uid=1996&tabNum=1&csi_uid=12&initYear=2021&initMonth=5&initDay=19&daynum=19\")"
   ]
  },
  {
   "cell_type": "code",
   "execution_count": 49,
   "id": "fabulous-confusion",
   "metadata": {},
   "outputs": [],
   "source": [
    "a.find_by_xpath(\"//a[@onclick='goReserve(107)']\").click()\n",
    "a.driver.switch_to.alert.accept()\n",
    "\n",
    "# 주소 입력\n",
    "a.find_by_xpath(\"//input[@id='csr_address_0']\").send_keys(\"부산시 해운대구 해운대로 469번길 110\")\n",
    "a.find_by_xpath(\"//input[@id='csr_address_1']\").send_keys(\"106-304\")\n",
    "\n",
    "# 차량 번호 입력\n",
    "a.find_by_xpath(\"//input[@class='csr_car']\").send_keys(\"68어4343\")\n",
    "\n",
    "# 이용자 명단 입력\n",
    "a.find_by_xpath(\"//input[@id='Addbtn']\").click()\n",
    "\n",
    "a.find_by_xpath(\"//input[@id='listName_1']\").send_keys(\"진우민\")\n",
    "a.find_by_xpath(\"//select[@id='listGender_1']\").send_keys(\"남\")\n",
    "a.find_by_xpath(\"//input[@id='listAge_1']\").send_keys(\"40\")\n",
    "\n",
    "a.find_by_xpath(\"//input[@id='listName_2']\").send_keys(\"정희영\")\n",
    "a.find_by_xpath(\"//select[@id='listGender_2']\").send_keys(\"여\")\n",
    "a.find_by_xpath(\"//input[@id='listAge_2']\").send_keys(\"41\")\n",
    "\n",
    "a.find_by_xpath(\"//input[@id='listName_3']\").send_keys(\"진효성\")\n",
    "a.find_by_xpath(\"//select[@id='listGender_3']\").send_keys(\"남\")\n",
    "a.find_by_xpath(\"//input[@id='listAge_3']\").send_keys(\"8\")\n",
    "\n",
    "a.find_by_xpath(\"//input[@id='listName_4']\").send_keys(\"진유성\")\n",
    "a.find_by_xpath(\"//select[@id='listGender_4']\").send_keys(\"남\")\n",
    "a.find_by_xpath(\"//input[@id='listAge_4']\").send_keys(\"5\")\n",
    "\n",
    "\n",
    "# 이용료 감면대상을 '해당사항 없음' 선택\n",
    "a.find_by_xpath(\"//input[@id='reductionSubjectNo']\").click()\n",
    "\n",
    "# 예약 버튼 클릭\n",
    "# a.find_by_xpath(\"//button[@class='btn_ok']\").click()\n",
    "\n",
    "# a.driver.switch_to.alert.accept()\n"
   ]
  },
  {
   "cell_type": "code",
   "execution_count": null,
   "id": "current-anxiety",
   "metadata": {},
   "outputs": [],
   "source": []
  }
 ],
 "metadata": {
  "kernelspec": {
   "display_name": "Python 3",
   "language": "python",
   "name": "python3"
  },
  "language_info": {
   "codemirror_mode": {
    "name": "ipython",
    "version": 3
   },
   "file_extension": ".py",
   "mimetype": "text/x-python",
   "name": "python",
   "nbconvert_exporter": "python",
   "pygments_lexer": "ipython3",
   "version": "3.9.1"
  }
 },
 "nbformat": 4,
 "nbformat_minor": 5
}
