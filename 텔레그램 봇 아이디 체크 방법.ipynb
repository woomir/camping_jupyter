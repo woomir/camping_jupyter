{
 "cells": [
  {
   "cell_type": "code",
   "execution_count": 7,
   "id": "amateur-variety",
   "metadata": {},
   "outputs": [
    {
     "name": "stdout",
     "output_type": "stream",
     "text": [
      "1003456250\n",
      "1003456250\n",
      "-564369831\n"
     ]
    }
   ],
   "source": [
    "import telegram\n",
    "\n",
    "chat_token = \"1752254532:AAHM8-RftUAr3V5KRJ2SzaBp41G8JTTeHIE\"\n",
    "chat = telegram.Bot(token = chat_token)\n",
    "updates = chat.getUpdates()\n",
    "for u in updates:\n",
    "    print(u.message['chat']['id'])"
   ]
  },
  {
   "cell_type": "code",
   "execution_count": 8,
   "id": "confused-cookie",
   "metadata": {},
   "outputs": [
    {
     "data": {
      "text/plain": [
       "<telegram.message.Message at 0x110ee7be0>"
      ]
     },
     "execution_count": 8,
     "metadata": {},
     "output_type": "execute_result"
    }
   ],
   "source": [
    "chat_token = \"1752254532:AAHM8-RftUAr3V5KRJ2SzaBp41G8JTTeHIE\"\n",
    "bot = telegram.Bot(token = chat_token)\n",
    "text = '안녕하세요'\n",
    "bot.sendMessage(chat_id = \"-564369831\", text=text)"
   ]
  },
  {
   "cell_type": "code",
   "execution_count": null,
   "id": "passing-coast",
   "metadata": {},
   "outputs": [],
   "source": []
  }
 ],
 "metadata": {
  "kernelspec": {
   "display_name": "Python 3",
   "language": "python",
   "name": "python3"
  },
  "language_info": {
   "codemirror_mode": {
    "name": "ipython",
    "version": 3
   },
   "file_extension": ".py",
   "mimetype": "text/x-python",
   "name": "python",
   "nbconvert_exporter": "python",
   "pygments_lexer": "ipython3",
   "version": "3.9.1"
  }
 },
 "nbformat": 4,
 "nbformat_minor": 5
}
